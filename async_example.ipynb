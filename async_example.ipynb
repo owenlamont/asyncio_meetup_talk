{
 "cells": [
  {
   "cell_type": "code",
   "execution_count": null,
   "id": "0",
   "metadata": {},
   "outputs": [],
   "source": [
    "from time import sleep"
   ]
  },
  {
   "cell_type": "code",
   "execution_count": null,
   "id": "1",
   "metadata": {},
   "outputs": [],
   "source": [
    "def sync_do_work(name: str):\n",
    "    sleep(1)\n",
    "    print(f\"Hello, {name}\")"
   ]
  },
  {
   "cell_type": "code",
   "execution_count": null,
   "id": "2",
   "metadata": {},
   "outputs": [],
   "source": [
    "sync_do_work(name=\"Yury\")\n",
    "sync_do_work(name=\"Nathaniel\")\n",
    "sync_do_work(name=\"Alex\")\n",
    "sync_do_work(name=\"Owen\")\n",
    "sync_do_work(name=\"Pedro\")"
   ]
  },
  {
   "cell_type": "code",
   "execution_count": null,
   "id": "3",
   "metadata": {},
   "outputs": [],
   "source": [
    "import asyncio"
   ]
  },
  {
   "cell_type": "code",
   "execution_count": null,
   "id": "4",
   "metadata": {},
   "outputs": [],
   "source": [
    "async def async_do_work(name: str):\n",
    "    \"\"\"This is a coroutine\"\"\"\n",
    "    await asyncio.sleep(1)\n",
    "    print(f\"Hello, {name}\")"
   ]
  },
  {
   "cell_type": "code",
   "execution_count": null,
   "id": "5",
   "metadata": {},
   "outputs": [],
   "source": [
    "# No good - awaiting coroutines sequentially doesn't speed\n",
    "# anything up - they just run sequentially in the same task\n",
    "await async_do_work(name=\"Yury\")\n",
    "await async_do_work(name=\"Nathaniel\")\n",
    "await async_do_work(name=\"Alex\")\n",
    "await async_do_work(name=\"Owen\")\n",
    "await async_do_work(name=\"Pedro\")"
   ]
  },
  {
   "cell_type": "code",
   "execution_count": null,
   "id": "6",
   "metadata": {},
   "outputs": [],
   "source": [
    "# Better - spawn a new task for each coroutine and await\n",
    "# so their waiting time can happen together\n",
    "task_1 = asyncio.create_task(async_do_work(name=\"Yury\"))\n",
    "task_2 = asyncio.create_task(async_do_work(name=\"Nathaniel\"))\n",
    "task_3 = asyncio.create_task(async_do_work(name=\"Alex\"))\n",
    "task_4 = asyncio.create_task(async_do_work(name=\"Owen\"))\n",
    "task_5 = asyncio.create_task(async_do_work(name=\"Pedro\"))\n",
    "\n",
    "await task_1\n",
    "await task_2\n",
    "await task_3\n",
    "await task_4\n",
    "await task_5"
   ]
  },
  {
   "cell_type": "code",
   "execution_count": null,
   "id": "7",
   "metadata": {},
   "outputs": [],
   "source": [
    "# Better still - convert all coroutines to tasks and await\n",
    "# them all concurrently with a gather call\n",
    "await asyncio.gather(\n",
    "    asyncio.create_task(async_do_work(name=\"Yury\")),\n",
    "    asyncio.create_task(async_do_work(name=\"Nathaniel\")),\n",
    "    asyncio.create_task(async_do_work(name=\"Alex\")),\n",
    "    asyncio.create_task(async_do_work(name=\"Owen\")),\n",
    "    asyncio.create_task(async_do_work(name=\"Pedro\")),\n",
    ")"
   ]
  },
  {
   "cell_type": "code",
   "execution_count": null,
   "id": "8",
   "metadata": {},
   "outputs": [],
   "source": [
    "# Best - gather implicitly converts coroutines to tasks\n",
    "await asyncio.gather(\n",
    "    async_do_work(name=\"Yury\"),\n",
    "    async_do_work(name=\"Nathaniel\"),\n",
    "    async_do_work(name=\"Alex\"),\n",
    "    async_do_work(name=\"Owen\"),\n",
    "    async_do_work(name=\"Pedro\"),\n",
    ")"
   ]
  }
 ],
 "metadata": {
  "kernelspec": {
   "display_name": "Python 3 (ipykernel)",
   "language": "python",
   "name": "python3"
  },
  "language_info": {
   "codemirror_mode": {
    "name": "ipython",
    "version": 3
   },
   "file_extension": ".py",
   "mimetype": "text/x-python",
   "name": "python",
   "nbconvert_exporter": "python",
   "pygments_lexer": "ipython3",
   "version": "3.13.4"
  }
 },
 "nbformat": 4,
 "nbformat_minor": 5
}
