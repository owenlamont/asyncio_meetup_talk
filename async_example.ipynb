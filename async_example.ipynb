{
  "metadata": {
    "kernelspec": {
      "name": "python",
      "display_name": "Python (Pyodide)",
      "language": "python"
    },
    "language_info": {
      "codemirror_mode": {
        "name": "python",
        "version": 3
      },
      "file_extension": ".py",
      "mimetype": "text/x-python",
      "name": "python",
      "nbconvert_exporter": "python",
      "pygments_lexer": "ipython3",
      "version": "3.8"
    }
  },
  "nbformat_minor": 5,
  "nbformat": 4,
  "cells": [
    {
      "id": "a0a5b273-9ec5-4219-b2fa-6ba77ec17cc7",
      "cell_type": "code",
      "source": "from time import sleep",
      "metadata": {
        "trusted": true
      },
      "outputs": [],
      "execution_count": null
    },
    {
      "id": "f6f32f6a-f55a-4e9e-afef-3585d64bbb43",
      "cell_type": "code",
      "source": "def sync_do_work(name: str):\n    sleep(1)\n    print(f\"Hello, {name}\")",
      "metadata": {
        "trusted": true
      },
      "outputs": [],
      "execution_count": null
    },
    {
      "id": "19987ba6-93bf-48a6-a032-799817780fa2",
      "cell_type": "code",
      "source": "sync_do_work(name=\"Yury\")\nsync_do_work(name=\"Nathaniel\")\nsync_do_work(name=\"Alex\")\nsync_do_work(name=\"Owen\")\nsync_do_work(name=\"Pedro\")",
      "metadata": {
        "trusted": true
      },
      "outputs": [],
      "execution_count": null
    },
    {
      "id": "667ceadc-8c99-4c47-b22c-0fb4ffc168d1",
      "cell_type": "code",
      "source": "import asyncio",
      "metadata": {
        "trusted": true
      },
      "outputs": [],
      "execution_count": null
    },
    {
      "id": "4f45be60-5c9a-4251-85b0-2f7f30936a9c",
      "cell_type": "code",
      "source": "async def async_do_work(name: str):\n    \"\"\"This is a coroutine\"\"\"\n    await asyncio.sleep(1)\n    print(f\"Hello, {name}\")",
      "metadata": {
        "trusted": true
      },
      "outputs": [],
      "execution_count": null
    },
    {
      "id": "6a81b6ff-96c5-4221-8d45-933f9050dc90",
      "cell_type": "code",
      "source": "# No good - awaiting coroutines sequentially doesn't speed\n# anything up - they just run sequentially in the same task\nawait async_do_work(name=\"Yury\")\nawait async_do_work(name=\"Nathaniel\")\nawait async_do_work(name=\"Alex\")\nawait async_do_work(name=\"Owen\")\nawait async_do_work(name=\"Pedro\")",
      "metadata": {
        "trusted": true
      },
      "outputs": [],
      "execution_count": null
    },
    {
      "id": "7cbd2004-434b-44e9-ac43-5678dd1c4284",
      "cell_type": "code",
      "source": "# Better - spawn a new task for each coroutine and await\n# so their waiting time can happen together\ntask_1 = asyncio.create_task(async_do_work(name=\"Yury\"))\ntask_2 = asyncio.create_task(async_do_work(name=\"Nathaniel\"))\ntask_3 = asyncio.create_task(async_do_work(name=\"Alex\"))\ntask_4 = asyncio.create_task(async_do_work(name=\"Owen\"))\ntask_5 = asyncio.create_task(async_do_work(name=\"Pedro\"))\n\nawait task_1\nawait task_2\nawait task_3\nawait task_4\nawait task_5",
      "metadata": {
        "trusted": true
      },
      "outputs": [],
      "execution_count": null
    },
    {
      "id": "2c3156be-c10f-4e80-8ae0-938d7a2c4d4a",
      "cell_type": "code",
      "source": "# Better still - convert all coroutines to tasks and await\n# them all concurrently with a gather call\nawait asyncio.gather(\n    asyncio.create_task(async_do_work(name=\"Yury\")),\n    asyncio.create_task(async_do_work(name=\"Nathaniel\")),\n    asyncio.create_task(async_do_work(name=\"Alex\")),\n    asyncio.create_task(async_do_work(name=\"Owen\")),\n    asyncio.create_task(async_do_work(name=\"Pedro\"))\n)",
      "metadata": {
        "trusted": true
      },
      "outputs": [],
      "execution_count": null
    },
    {
      "id": "c73ee259-cd49-49ed-9f45-16580e9fc164",
      "cell_type": "code",
      "source": "# Best - gather implicitly converts coroutines to tasks\nawait asyncio.gather(\n    async_do_work(name=\"Yury\"),\n    async_do_work(name=\"Nathaniel\"),\n    async_do_work(name=\"Alex\"),\n    async_do_work(name=\"Owen\"),\n    async_do_work(name=\"Pedro\")\n)",
      "metadata": {
        "trusted": true
      },
      "outputs": [],
      "execution_count": null
    }
  ]
}